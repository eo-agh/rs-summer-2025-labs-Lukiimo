{
 "cells": [
  {
   "cell_type": "markdown",
   "id": "d3ac2b14",
   "metadata": {},
   "source": [
    "# Lab 4: Urban Heat Island Detection using Thermal Satellite Imagery"
   ]
  },
  {
   "cell_type": "markdown",
   "id": "94a259ca",
   "metadata": {},
   "source": [
    "## Goal\n",
    "In this exercise, you will:\n",
    "1. Select and compare two thermal satellite images from Kraków (or another city that has recently undergone intensive, thoughtless concrete development) – one from **2013** and one from **2024**.\n",
    "2. Each image must be acquired on a **hot summer day** (T > 27°C based on IMGW meteorological data).\n",
    "3. Images must have **low cloud cover** (< 20%).\n",
    "4. Visualize thermal data and analyze surface temperature differences (Urban Heat Island effect)."
   ]
  },
  {
   "cell_type": "markdown",
   "id": "cfa7c6b9",
   "metadata": {},
   "source": [
    "## Task 1: Area of Interest (AOI)\n",
    "- Define an AOI over the Reduta Street area in Kraków.\n",
    "- Use `ee.Geometry.Polygon` or `ee.Geometry.Rectangle`."
   ]
  },
  {
   "cell_type": "code",
   "execution_count": 14,
   "id": "996888a7",
   "metadata": {},
   "outputs": [
    {
     "data": {
      "text/html": [
       "\n",
       "            <style>\n",
       "                .geemap-dark {\n",
       "                    --jp-widgets-color: white;\n",
       "                    --jp-widgets-label-color: white;\n",
       "                    --jp-ui-font-color1: white;\n",
       "                    --jp-layout-color2: #454545;\n",
       "                    background-color: #383838;\n",
       "                }\n",
       "\n",
       "                .geemap-dark .jupyter-button {\n",
       "                    --jp-layout-color3: #383838;\n",
       "                }\n",
       "\n",
       "                .geemap-colab {\n",
       "                    background-color: var(--colab-primary-surface-color, white);\n",
       "                }\n",
       "\n",
       "                .geemap-colab .jupyter-button {\n",
       "                    --jp-layout-color3: var(--colab-primary-surface-color, white);\n",
       "                }\n",
       "            </style>\n",
       "            "
      ],
      "text/plain": [
       "<IPython.core.display.HTML object>"
      ]
     },
     "metadata": {},
     "output_type": "display_data"
    },
    {
     "name": "stdout",
     "output_type": "stream",
     "text": [
      "AOI: {'type': 'Polygon', 'coordinates': [[[19.88, 50.01], [19.92, 50.01], [19.92, 50.03], [19.88, 50.03], [19.88, 50.01]]]}\n"
     ]
    }
   ],
   "source": [
    "import ee\n",
    "\n",
    "# Initialize the Earth Engine API\n",
    "ee.Initialize()\n",
    "\n",
    "# Define the AOI using ee.Geometry.Rectangle\n",
    "aoi = ee.Geometry.Rectangle([19.88, 50.010, 19.92, 50.030])  # Replace with actual coordinates\n",
    "\n",
    "# Print the AOI to verify\n",
    "print('AOI:', aoi.getInfo())"
   ]
  },
  {
   "cell_type": "markdown",
   "id": "7817c68e",
   "metadata": {},
   "source": [
    "## Task 2: Download and Analyze IMGW Meteorological Data\n",
    "- Visit: [IMGW Archive](https://danepubliczne.imgw.pl/data/dane_pomiarowo_obserwacyjne/)\n",
    "- Navigate to:\n",
    "  - `dane_meteorologiczne/dobowe/synop/2013/`\n",
    "  - `dane_meteorologiczne/dobowe/synop/2024/`\n",
    "- Download `s_d_tmax.csv` for both years.\n",
    "- Filter the rows for **station ID 12566 (e.g. Kraków-Balice)**.\n",
    "- Identify days in **July or August** with **TMAX > 27°C**."
   ]
  },
  {
   "cell_type": "markdown",
   "id": "c7f064e5",
   "metadata": {},
   "source": [
    "## Task 3: Select Landsat 8 Images Matching These Dates\n",
    "- In Earth Engine, use `LANDSAT/LC08/C02/T1_L2` collection.\n",
    "- Apply filters:\n",
    "  - `.filterBounds(aoi)`\n",
    "  - `.filterDate()` for the matching day\n",
    "  - `.filterMetadata('CLOUD_COVER', 'less_than', 20)`\n",
    "- Try to find **one image from 2013** and **one image from 2024** that match your hot days list."
   ]
  },
  {
   "cell_type": "code",
   "execution_count": 20,
   "id": "97e95890",
   "metadata": {},
   "outputs": [
    {
     "data": {
      "text/html": [
       "\n",
       "            <style>\n",
       "                .geemap-dark {\n",
       "                    --jp-widgets-color: white;\n",
       "                    --jp-widgets-label-color: white;\n",
       "                    --jp-ui-font-color1: white;\n",
       "                    --jp-layout-color2: #454545;\n",
       "                    background-color: #383838;\n",
       "                }\n",
       "\n",
       "                .geemap-dark .jupyter-button {\n",
       "                    --jp-layout-color3: #383838;\n",
       "                }\n",
       "\n",
       "                .geemap-colab {\n",
       "                    background-color: var(--colab-primary-surface-color, white);\n",
       "                }\n",
       "\n",
       "                .geemap-colab .jupyter-button {\n",
       "                    --jp-layout-color3: var(--colab-primary-surface-color, white);\n",
       "                }\n",
       "            </style>\n",
       "            "
      ],
      "text/plain": [
       "<IPython.core.display.HTML object>"
      ]
     },
     "metadata": {},
     "output_type": "display_data"
    },
    {
     "name": "stdout",
     "output_type": "stream",
     "text": [
      "2013 Image Date: 2013-08-07\n",
      "2024 Image Date: 2024-08-13\n"
     ]
    }
   ],
   "source": [
    "# Define the Landsat 8 image collection\n",
    "landsat_collection = ee.ImageCollection('LANDSAT/LC08/C02/T1_L2')\n",
    "\n",
    "# Filter for 2013 image\n",
    "image_2013 = landsat_collection.filterBounds(aoi) \\\n",
    "    .filterDate('2013-08-01', '2013-08-31') \\\n",
    "    .filterMetadata('CLOUD_COVER', 'less_than', 20) \\\n",
    "    .first()\n",
    "\n",
    "\n",
    "landsat_collection9 = ee.ImageCollection('LANDSAT/LC09/C02/T1_L2')\n",
    "\n",
    "# Filter for 2024 image\n",
    "image_2024 = landsat_collection9.filterBounds(aoi) \\\n",
    "    .filterDate('2024-08-01', '2024-08-31') \\\n",
    "    .filterMetadata('CLOUD_COVER', 'less_than', 20) \\\n",
    "    .first()\n",
    "\n",
    "# Get and print only the date of the selected images\n",
    "print('2013 Image Date:', image_2013.date().format('YYYY-MM-dd').getInfo())\n",
    "print('2024 Image Date:', image_2024.date().format('YYYY-MM-dd').getInfo())"
   ]
  },
  {
   "cell_type": "markdown",
   "id": "721a6015",
   "metadata": {},
   "source": [
    "## Task 4: Process Thermal Band (ST_B10)\n",
    "- Convert Band 10 to Brightness Temperature (Kelvin):\n",
    "  `TB = ST_B10 * 0.00341802 + 149.0`\n",
    "- Create a visualization of each image using the same color scale."
   ]
  },
  {
   "cell_type": "code",
   "execution_count": 21,
   "id": "0f65b4cd",
   "metadata": {},
   "outputs": [
    {
     "data": {
      "text/html": [
       "\n",
       "            <style>\n",
       "                .geemap-dark {\n",
       "                    --jp-widgets-color: white;\n",
       "                    --jp-widgets-label-color: white;\n",
       "                    --jp-ui-font-color1: white;\n",
       "                    --jp-layout-color2: #454545;\n",
       "                    background-color: #383838;\n",
       "                }\n",
       "\n",
       "                .geemap-dark .jupyter-button {\n",
       "                    --jp-layout-color3: #383838;\n",
       "                }\n",
       "\n",
       "                .geemap-colab {\n",
       "                    background-color: var(--colab-primary-surface-color, white);\n",
       "                }\n",
       "\n",
       "                .geemap-colab .jupyter-button {\n",
       "                    --jp-layout-color3: var(--colab-primary-surface-color, white);\n",
       "                }\n",
       "            </style>\n",
       "            "
      ],
      "text/plain": [
       "<IPython.core.display.HTML object>"
      ]
     },
     "metadata": {},
     "output_type": "display_data"
    },
    {
     "data": {
      "application/vnd.jupyter.widget-view+json": {
       "model_id": "9bad7bc34a8e4d2999b9a8cda311e2f3",
       "version_major": 2,
       "version_minor": 0
      },
      "text/plain": [
       "Map(center=[50.02000102479521, 19.899999999993007], controls=(WidgetControl(options=['position', 'transparent_…"
      ]
     },
     "execution_count": 21,
     "metadata": {},
     "output_type": "execute_result"
    }
   ],
   "source": [
    "import geemap \n",
    "# Extract the thermal band (ST_B10) for both images\n",
    "thermal_band_2013 = image_2013.select('ST_B10')\n",
    "thermal_band_2024 = image_2024.select('ST_B10')\n",
    "\n",
    "# Convert to Brightness Temperature (Kelvin)\n",
    "tb_2013 = thermal_band_2013.multiply(0.00341802).add(149.0)\n",
    "tb_2024 = thermal_band_2024.multiply(0.00341802).add(149.0)\n",
    "\n",
    "# Define visualization parameters\n",
    "vis_params = {\n",
    "    'min': 290,  # Adjust based on expected temperature range\n",
    "    'max': 320,  # Adjust based on expected temperature range\n",
    "    'palette': ['blue', 'green', 'yellow', 'red']\n",
    "}\n",
    "\n",
    "# Add layers to the map for visualization\n",
    "Map = geemap.Map()  # Assuming geemap is being used for visualization\n",
    "Map.centerObject(aoi, 13)\n",
    "Map.addLayer(tb_2013, vis_params, 'Temperature 2013')\n",
    "Map.addLayer(tb_2024, vis_params, 'Temperature 2024')\n",
    "Map.addLayer(aoi, {}, 'AOI')\n",
    "\n",
    "Map"
   ]
  },
  {
   "cell_type": "markdown",
   "id": "aa3b092a",
   "metadata": {},
   "source": [
    "## Task 5: Compare and Interpret\n",
    "- Compare the two maps.\n",
    "- Optionally calculate difference: `TB_2024 - TB_2013`\n",
    "- Discuss: did the surface temperature increase in the area?\n",
    "- Is there evidence of an Urban Heat Island effect related to development?"
   ]
  },
  {
   "cell_type": "code",
   "execution_count": null,
   "id": "23099b46",
   "metadata": {},
   "outputs": [],
   "source": [
    "#"
   ]
  },
  {
   "cell_type": "code",
   "execution_count": null,
   "id": "88b96b8f",
   "metadata": {},
   "outputs": [],
   "source": []
  }
 ],
 "metadata": {
  "kernelspec": {
   "display_name": "eo_lab",
   "language": "python",
   "name": "python3"
  },
  "language_info": {
   "codemirror_mode": {
    "name": "ipython",
    "version": 3
   },
   "file_extension": ".py",
   "mimetype": "text/x-python",
   "name": "python",
   "nbconvert_exporter": "python",
   "pygments_lexer": "ipython3",
   "version": "3.9.21"
  }
 },
 "nbformat": 4,
 "nbformat_minor": 5
}
